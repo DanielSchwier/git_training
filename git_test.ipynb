{
  "nbformat": 4,
  "nbformat_minor": 0,
  "metadata": {
    "colab": {
      "name": "git_test.ipynb",
      "provenance": [],
      "authorship_tag": "ABX9TyPQJ2BrFwXesrH61arnbGkU",
      "include_colab_link": true
    },
    "kernelspec": {
      "name": "python3",
      "display_name": "Python 3"
    }
  },
  "cells": [
    {
      "cell_type": "markdown",
      "metadata": {
        "id": "view-in-github",
        "colab_type": "text"
      },
      "source": [
        "<a href=\"https://colab.research.google.com/github/DanielSchwier/git_training/blob/main/git_test.ipynb\" target=\"_parent\"><img src=\"https://colab.research.google.com/assets/colab-badge.svg\" alt=\"Open In Colab\"/></a>"
      ]
    },
    {
      "cell_type": "markdown",
      "metadata": {
        "id": "AvUmxwi1Pr6O"
      },
      "source": [
        "# Here's some markdown\r\n",
        "This would be version 1 of a notebook, that I might create\r\n",
        "\r\n",
        "## Function\r\n",
        "A function is a block of code to carry out a specific task, will contain its  own scope and is called by name. All functions may contain zero(no) arguments \r\n",
        "\r\n",
        "```\r\n",
        "# This is formatted as code\r\n",
        "```\r\n",
        "\r\n",
        "or more than one arguments. On exit, a function can or can not\r\n"
      ]
    },
    {
      "cell_type": "code",
      "metadata": {
        "colab": {
          "base_uri": "https://localhost:8080/"
        },
        "id": "2Fgq_ZTKbPvw",
        "outputId": "d36d1342-30ef-414c-dfed-db146888e77e"
      },
      "source": [
        "# Lets look at FUNCTIONS\r\n",
        "def FunctionName(x,y): # x and y are ARGUMENTS\r\n",
        "  return (x+y)\r\n",
        "\r\n",
        "print(FunctionName(12,8))"
      ],
      "execution_count": null,
      "outputs": [
        {
          "output_type": "stream",
          "text": [
            "20\n"
          ],
          "name": "stdout"
        }
      ]
    },
    {
      "cell_type": "markdown",
      "metadata": {
        "id": "VLfWE5DGSh9I"
      },
      "source": [
        "## Methods\r\n",
        "A method in python is somewhat similar to a function, except it is associated with object/classes. Methods in python are very similar to functions except for two major differences.\r\n",
        "\r\n",
        "The method is implicitly used for an object for which it is called.\r\n",
        "\r\n",
        "The method is accessible to data that is contained within the class."
      ]
    },
    {
      "cell_type": "code",
      "metadata": {
        "colab": {
          "base_uri": "https://localhost:8080/"
        },
        "id": "PbDRGUuNQCnq",
        "outputId": "f5cb9abb-9aba-44f5-8b17-e8ec86b2b77a"
      },
      "source": [
        "class Pet(object):\r\n",
        "   def my_method(self):\r\n",
        "      print(\"I am a Cat\")\r\n",
        "cat = Pet()\r\n",
        "cat.my_method()\r\n",
        "\r\n",
        "#my_method() woudln't have done anything in isolation it had to be called (.) against"
      ],
      "execution_count": null,
      "outputs": [
        {
          "output_type": "stream",
          "text": [
            "I am a Cat\n"
          ],
          "name": "stdout"
        }
      ]
    },
    {
      "cell_type": "code",
      "metadata": {
        "id": "D5IRjL94U6IO"
      },
      "source": [
        ""
      ],
      "execution_count": null,
      "outputs": []
    },
    {
      "cell_type": "markdown",
      "metadata": {
        "id": "qEw0E-7UU6nP"
      },
      "source": [
        "Key differences between method and function in python\r\n",
        "As we get the basic understanding of the function and method both, let's highlight the key differences between them −\r\n",
        "\r\n",
        "Unlike a function, methods are called on an object. Like in our example above we call our method .i.e. “my_method” on the object “cat” whereas the function “sum” is called without any object. Also, because the method is called on an object, it can access that data within it.\r\n",
        "\r\n",
        "Unlike method which can alter the object’s state, python function doesn’t do this and normally operates on it.\r\n",
        "\r\n",
        "In Short, **a method is a function which belongs to an object.**"
      ]
    },
    {
      "cell_type": "code",
      "metadata": {
        "id": "MIHIag6_QFsy"
      },
      "source": [
        ""
      ],
      "execution_count": null,
      "outputs": []
    }
  ]
}